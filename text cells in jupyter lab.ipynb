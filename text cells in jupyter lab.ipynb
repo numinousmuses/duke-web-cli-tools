{
 "cells": [
  {
   "cell_type": "markdown",
   "metadata": {},
   "source": [
    "1. Select the cell below.\n",
    "2. Convert it to markdown using the menu above, or by pressing Esc-m\n",
    "3. Double click on the cell and type \"# Introduction to Markdown\"\n",
    "4. Press the run button or Esc-Enter to compile the cells and open a new one. \n",
    "5. Convert the new cell to markdown\n",
    "6. In the new cell type:\n",
    "\n",
    "````\n",
    "## Lists\n",
    "\n",
    "1 item1\n",
    "1 item2\n",
    "1 item3\n",
    "\n",
    "- item1\n",
    "- item2\n",
    "- item3\n",
    "````\n",
    "7. Run the cell and move to the next one.\n",
    "8. Convert it to markdown and type:\n",
    "````\n",
    "## Emphasis\n",
    "\n",
    "*Bold*\n",
    "\n",
    "__Italic__\n",
    "\n",
    "~~Strikethrough~~\n",
    "````\n",
    "\n",
    "9. Run the cell. Convert the cell below to markdown and type:\n",
    "\n",
    "~~~~\n",
    "## Tables\n",
    "\n",
    "\n",
    "| Name       | Species      |\n",
    "| ----------- | ----------- |\n",
    "| Ralph      | Dog       |\n",
    "| Hobbs   | Tiger        |\n",
    "~~~~\n",
    "\n",
    "10. Run the cell and observe your table."
   ]
  },
  {
   "cell_type": "markdown",
   "metadata": {},
   "source": [
    "# Introduction to Markdown"
   ]
  },
  {
   "cell_type": "markdown",
   "metadata": {},
   "source": [
    "## Lists\n",
    "\n",
    "1 item1\n",
    "1 item2\n",
    "1 item3\n",
    "\n",
    "- item1\n",
    "- item2\n",
    "- item3"
   ]
  },
  {
   "cell_type": "markdown",
   "metadata": {},
   "source": [
    "# Emphasis\n",
    "\n",
    "*italics*\n",
    "\n",
    "**bold**\n",
    "\n",
    "~strikethrough~"
   ]
  },
  {
   "cell_type": "markdown",
   "metadata": {},
   "source": [
    "## Tables\n",
    "\n",
    "\n",
    "| Name       | Species      |\n",
    "| ------------ | ----------- |\n",
    "| Ralph      | Dog       |\n",
    "| Hobbs   | Tiger        |"
   ]
  },
  {
   "cell_type": "code",
   "execution_count": null,
   "metadata": {},
   "outputs": [],
   "source": []
  }
 ],
 "metadata": {
  "kernelspec": {
   "display_name": "Python 3",
   "language": "python",
   "name": "python3"
  },
  "language_info": {
   "codemirror_mode": {
    "name": "ipython",
    "version": 3
   },
   "file_extension": ".py",
   "mimetype": "text/x-python",
   "name": "python",
   "nbconvert_exporter": "python",
   "pygments_lexer": "ipython3",
   "version": "3.7.6"
  }
 },
 "nbformat": 4,
 "nbformat_minor": 4
}
